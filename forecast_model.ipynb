{
  "cells": [
    {
      "cell_type": "markdown",
      "metadata": {
        "id": "view-in-github",
        "colab_type": "text"
      },
      "source": [
        "<a href=\"https://colab.research.google.com/github/arses-ui/Forecast/blob/main/forecast_model.ipynb\" target=\"_parent\"><img src=\"https://colab.research.google.com/assets/colab-badge.svg\" alt=\"Open In Colab\"/></a>"
      ]
    },
    {
      "cell_type": "code",
      "source": [
        "#pip install scikit-learn\n",
        "#pip install numpy\n",
        "#pip install matplolib\n",
        "#pip install pandas\n",
        "#pip install"
      ],
      "metadata": {
        "id": "rYICQ2J5RDex"
      },
      "execution_count": null,
      "outputs": []
    },
    {
      "cell_type": "code",
      "execution_count": null,
      "metadata": {
        "colab": {
          "base_uri": "https://localhost:8080/"
        },
        "id": "_1A_sxRbaLTI",
        "outputId": "fa6b02ac-9efd-4b29-fa18-1ded5b82fe83"
      },
      "outputs": [
        {
          "output_type": "stream",
          "name": "stdout",
          "text": [
            "Drive already mounted at /content/drive; to attempt to forcibly remount, call drive.mount(\"/content/drive\", force_remount=True).\n"
          ]
        }
      ],
      "source": [
        "from google.colab import drive\n",
        "drive.mount('/content/drive')"
      ]
    },
    {
      "cell_type": "code",
      "execution_count": null,
      "metadata": {
        "colab": {
          "base_uri": "https://localhost:8080/"
        },
        "id": "jIeLi8XRaRNH",
        "outputId": "cdcfff47-abc1-43f4-dcd4-a2148d0f2084"
      },
      "outputs": [
        {
          "output_type": "stream",
          "name": "stdout",
          "text": [
            "Requirement already satisfied: scikit-learn in /usr/local/lib/python3.12/dist-packages (1.6.1)\n",
            "Requirement already satisfied: numpy>=1.19.5 in /usr/local/lib/python3.12/dist-packages (from scikit-learn) (2.0.2)\n",
            "Requirement already satisfied: scipy>=1.6.0 in /usr/local/lib/python3.12/dist-packages (from scikit-learn) (1.16.1)\n",
            "Requirement already satisfied: joblib>=1.2.0 in /usr/local/lib/python3.12/dist-packages (from scikit-learn) (1.5.1)\n",
            "Requirement already satisfied: threadpoolctl>=3.1.0 in /usr/local/lib/python3.12/dist-packages (from scikit-learn) (3.6.0)\n"
          ]
        }
      ],
      "source": [
        "!pip install scikit-learn"
      ]
    },
    {
      "cell_type": "markdown",
      "source": [
        "<font size=5> Splitting the data into train and test"
      ],
      "metadata": {
        "id": "UnPLXjCsCe_Y"
      }
    },
    {
      "cell_type": "code",
      "execution_count": null,
      "metadata": {
        "colab": {
          "base_uri": "https://localhost:8080/"
        },
        "id": "EaxrmwcTbvsp",
        "outputId": "5d92412f-8730-4396-ad25-8c03893c98c6"
      },
      "outputs": [
        {
          "output_type": "stream",
          "name": "stderr",
          "text": [
            "/tmp/ipython-input-3729601771.py:9: FutureWarning: DataFrame.fillna with 'method' is deprecated and will raise in a future version. Use obj.ffill() or obj.bfill() instead.\n",
            "  df = df.fillna(method='ffill')\n",
            "/tmp/ipython-input-3729601771.py:10: FutureWarning: DataFrame.fillna with 'method' is deprecated and will raise in a future version. Use obj.ffill() or obj.bfill() instead.\n",
            "  df = df.fillna(method='bfill')\n"
          ]
        }
      ],
      "source": [
        "from sklearn.preprocessing import MinMaxScaler\n",
        "import numpy as np\n",
        "import pandas as pd\n",
        "from sklearn.model_selection import train_test_split\n",
        "\n",
        "\n",
        "#reading the dataset\n",
        "df = pd.read_csv(\"/content/drive/MyDrive/nepse_full_1year.csv\")\n",
        "df = df.fillna(method='ffill')\n",
        "df = df.fillna(method='bfill')\n",
        "\n",
        "#splitting the dataset for train and test\n",
        "split_date = \"2025-06-20\"\n",
        "train_df = df[df[\"date\"] <= split_date]\n",
        "test_df  = df[df[\"date\"] > split_date]\n"
      ]
    },
    {
      "cell_type": "markdown",
      "source": [
        "<font size=5>Removing companies with way too little data"
      ],
      "metadata": {
        "id": "KEvr3bvoClA2"
      }
    },
    {
      "cell_type": "code",
      "source": [
        "window_size=7\n",
        "valid_companies = []\n",
        "for symbol, group in train_df.groupby(\"symbol\"):\n",
        "    if len(group) >= window_size + 1:\n",
        "        valid_companies.append(symbol)\n",
        "    else:\n",
        "        print(f\"Skipping {symbol}: only {len(group)} rows\")\n",
        "\n",
        "train_df = train_df[train_df[\"symbol\"].isin(valid_companies)]\n",
        "test_df  = test_df[test_df[\"symbol\"].isin(valid_companies)]\n"
      ],
      "metadata": {
        "id": "EgxtoQ4H3F1r",
        "colab": {
          "base_uri": "https://localhost:8080/"
        },
        "outputId": "5f296597-df5c-4fae-d6f2-aa9435ddc235"
      },
      "execution_count": null,
      "outputs": [
        {
          "output_type": "stream",
          "name": "stdout",
          "text": [
            "Skipping ACLBSLP: only 1 rows\n",
            "Skipping ALBSLP: only 4 rows\n",
            "Skipping ALICLP: only 2 rows\n",
            "Skipping BFCPO: only 6 rows\n",
            "Skipping CBBLPO: only 1 rows\n",
            "Skipping CYCLP: only 1 rows\n",
            "Skipping CZBILP: only 7 rows\n",
            "Skipping EDBLPO: only 1 rows\n",
            "Skipping FMDBLP: only 2 rows\n",
            "Skipping GILBPO: only 1 rows\n",
            "Skipping GMFILP: only 1 rows\n",
            "Skipping GUFLPO: only 4 rows\n",
            "Skipping HBLPO: only 3 rows\n",
            "Skipping ICFCPO: only 1 rows\n",
            "Skipping IGIPO: only 3 rows\n",
            "Skipping JFLPO: only 1 rows\n",
            "Skipping KMCDBP: only 3 rows\n",
            "Skipping LBBLPO: only 1 rows\n",
            "Skipping MATRIP: only 7 rows\n",
            "Skipping MBLPO: only 5 rows\n",
            "Skipping MDBPO: only 1 rows\n",
            "Skipping MLBBLP: only 1 rows\n",
            "Skipping MLBLPO: only 1 rows\n",
            "Skipping MLBSLP: only 1 rows\n",
            "Skipping MSLBP: only 7 rows\n",
            "Skipping NABBCP: only 5 rows\n",
            "Skipping NABILP: only 1 rows\n",
            "Skipping NFSPO: only 1 rows\n",
            "Skipping NICLPO: only 1 rows\n",
            "Skipping NIFRAP: only 1 rows\n",
            "Skipping NLICLP: only 3 rows\n",
            "Skipping NLICP: only 4 rows\n",
            "Skipping NMBPO: only 6 rows\n",
            "Skipping NMLBBLP: only 5 rows\n",
            "Skipping RLFLPO: only 1 rows\n",
            "Skipping SADBLP: only 7 rows\n",
            "Skipping SAPDBLP: only 1 rows\n",
            "Skipping SHINEP: only 4 rows\n",
            "Skipping SICLPO: only 3 rows\n",
            "Skipping SIFCPO: only 1 rows\n",
            "Skipping SJLICP: only 2 rows\n",
            "Skipping SKBBLP: only 2 rows\n",
            "Skipping SLBBLP: only 1 rows\n",
            "Skipping SMATAP: only 6 rows\n",
            "Skipping SMBPO: only 3 rows\n",
            "Skipping SMPDAP: only 1 rows\n",
            "Skipping SNMAPO: only 3 rows\n",
            "Skipping SRLIP: only 5 rows\n",
            "Skipping UAILPO: only 2 rows\n",
            "Skipping UNLBP: only 4 rows\n",
            "Skipping VLBSPO: only 6 rows\n",
            "Skipping WNLBP: only 1 rows\n"
          ]
        }
      ]
    },
    {
      "cell_type": "markdown",
      "source": [
        "<font size=5> Function to build sequences to feed the model as training data"
      ],
      "metadata": {
        "id": "ZFXQQIfmCqyo"
      }
    },
    {
      "cell_type": "code",
      "source": [
        "feature_cols = [\"open\", \"high\", \"low\", \"close\", \"volume\", \"ma_5\", \"volatility_10\"]\n",
        "def build_sequences(group, window_size=7):\n",
        "    X, y = [], []\n",
        "    data = group[feature_cols].values\n",
        "    labels = group[\"target\"].values\n",
        "    for i in range(len(data) - window_size):\n",
        "        X.append(data[i:i+window_size])\n",
        "        y.append(labels[i+window_size])\n",
        "    return np.array(X), np.array(y)\n",
        "\n",
        "window_size = 7"
      ],
      "metadata": {
        "id": "Hi9u92Kn0BRx"
      },
      "execution_count": null,
      "outputs": []
    },
    {
      "cell_type": "markdown",
      "source": [
        "<font size=5>Scaling the data"
      ],
      "metadata": {
        "id": "tRtU9ZK4CxWY"
      }
    },
    {
      "cell_type": "code",
      "source": [
        "#Initialize a scaler for the training split\n",
        "scaler = MinMaxScaler()\n",
        "train_df[feature_cols] = scaler.fit_transform(train_df[feature_cols])\n",
        "\n",
        "#Using the scaler that learned on training split for  test split\n",
        "test_df[feature_cols] = scaler.transform(test_df[feature_cols])"
      ],
      "metadata": {
        "id": "8Cj083e_4ZuP"
      },
      "execution_count": null,
      "outputs": []
    },
    {
      "cell_type": "markdown",
      "source": [
        "Saving the scaled datat"
      ],
      "metadata": {
        "id": "aTAqTLKlC1nc"
      }
    },
    {
      "cell_type": "code",
      "source": [
        "import joblib\n",
        "scaler_filename = \"scaler.joblib\"\n",
        "joblib.dump(scaler, scaler_filename)"
      ],
      "metadata": {
        "id": "2MpJhrRYC6hN",
        "colab": {
          "base_uri": "https://localhost:8080/"
        },
        "outputId": "fe669df4-7c51-4214-cc4a-d95e1e257a22"
      },
      "execution_count": null,
      "outputs": [
        {
          "output_type": "execute_result",
          "data": {
            "text/plain": [
              "['scaler.joblib']"
            ]
          },
          "metadata": {},
          "execution_count": 76
        }
      ]
    },
    {
      "cell_type": "markdown",
      "source": [
        "<font size=5>Building the sequences"
      ],
      "metadata": {
        "id": "lFun-HZ4DMcx"
      }
    },
    {
      "cell_type": "code",
      "source": [
        "# Training\n",
        "X_tr_list, y_tr_list = [], []\n",
        "for symbol, group in train_df.groupby(\"symbol\"):\n",
        "  X_sym, y_sym = build_sequences(group, window_size=7)\n",
        "  X_tr_list.append(X_sym)\n",
        "  y_tr_list.append(y_sym)\n",
        "X_train = np.concatenate(X_tr_list, axis=0)\n",
        "y_train = np.concatenate(y_tr_list, axis=0)\n",
        "\n",
        "# Testing\n",
        "X_te_list, y_te_list = [], []\n",
        "for symbol, group in test_df.groupby(\"symbol\"):\n",
        "  if len(group) >= window_size + 1:\n",
        "    X_sym, y_sym = build_sequences(group, window_size=7)\n",
        "    X_te_list.append(X_sym)\n",
        "    y_te_list.append(y_sym)\n",
        "X_test = np.concatenate(X_te_list, axis=0)\n",
        "y_test = np.concatenate(y_te_list, axis=0)\n"
      ],
      "metadata": {
        "id": "ILHMctMB3UFF"
      },
      "execution_count": null,
      "outputs": []
    },
    {
      "cell_type": "markdown",
      "source": [],
      "metadata": {
        "id": "Op7gjnFF3OmF"
      }
    },
    {
      "cell_type": "markdown",
      "source": [
        "<font size=6> Defining the model"
      ],
      "metadata": {
        "id": "uFdCVAEn1Azp"
      }
    },
    {
      "cell_type": "code",
      "execution_count": null,
      "metadata": {
        "colab": {
          "base_uri": "https://localhost:8080/"
        },
        "id": "AKGfun1odBXq",
        "outputId": "8ef8727a-9e14-4bcc-a275-4140dbc2a9e9"
      },
      "outputs": [
        {
          "output_type": "stream",
          "name": "stderr",
          "text": [
            "/usr/local/lib/python3.12/dist-packages/keras/src/layers/rnn/rnn.py:199: UserWarning: Do not pass an `input_shape`/`input_dim` argument to a layer. When using Sequential models, prefer using an `Input(shape)` object as the first layer in the model instead.\n",
            "  super().__init__(**kwargs)\n"
          ]
        }
      ],
      "source": [
        "import tensorflow as tf\n",
        "from tensorflow.keras.models import Sequential\n",
        "from tensorflow.keras.layers import LSTM, Dense, Dropout\n",
        "\n",
        "model =  Sequential([\n",
        "    LSTM(units=50, return_sequences=False, input_shape=(X_train.shape[1], X_train.shape[2])),\n",
        "    Dropout(0.2),\n",
        "    Dense(units=25),\n",
        "    Dense(units=1, activation= \"sigmoid\")\n",
        "])\n",
        "optimizer = tf.keras.optimizers.Adam(learning_rate=0.005)\n",
        "\n",
        "model.compile(optimizer=optimizer, loss='binary_crossentropy',metrics=[\"accuracy\", \"Precision\", \"Recall\"]\n",
        " )"
      ]
    },
    {
      "cell_type": "markdown",
      "source": [
        "<font size=5> Training the model"
      ],
      "metadata": {
        "id": "r4Nn7vlG1Y58"
      }
    },
    {
      "cell_type": "code",
      "source": [
        "model.fit(X_train, y_train, epochs=100, batch_size=32)"
      ],
      "metadata": {
        "id": "5OdmkBde1HJV",
        "colab": {
          "base_uri": "https://localhost:8080/"
        },
        "outputId": "13269965-9d0f-4ae5-b8bd-2721083e3816"
      },
      "execution_count": null,
      "outputs": [
        {
          "output_type": "stream",
          "name": "stdout",
          "text": [
            "Epoch 1/100\n",
            "\u001b[1m1755/1755\u001b[0m \u001b[32m━━━━━━━━━━━━━━━━━━━━\u001b[0m\u001b[37m\u001b[0m \u001b[1m22s\u001b[0m 9ms/step - Precision: 0.4188 - Recall: 0.0178 - accuracy: 0.5627 - loss: 0.6857\n",
            "Epoch 2/100\n",
            "\u001b[1m1755/1755\u001b[0m \u001b[32m━━━━━━━━━━━━━━━━━━━━\u001b[0m\u001b[37m\u001b[0m \u001b[1m12s\u001b[0m 7ms/step - Precision: 0.0000e+00 - Recall: 0.0000e+00 - accuracy: 0.5652 - loss: 0.6850\n",
            "Epoch 3/100\n",
            "\u001b[1m1755/1755\u001b[0m \u001b[32m━━━━━━━━━━━━━━━━━━━━\u001b[0m\u001b[37m\u001b[0m \u001b[1m11s\u001b[0m 6ms/step - Precision: 0.0000e+00 - Recall: 0.0000e+00 - accuracy: 0.5683 - loss: 0.6839\n",
            "Epoch 4/100\n",
            "\u001b[1m1755/1755\u001b[0m \u001b[32m━━━━━━━━━━━━━━━━━━━━\u001b[0m\u001b[37m\u001b[0m \u001b[1m11s\u001b[0m 6ms/step - Precision: 0.0000e+00 - Recall: 0.0000e+00 - accuracy: 0.5667 - loss: 0.6845\n",
            "Epoch 5/100\n",
            "\u001b[1m1755/1755\u001b[0m \u001b[32m━━━━━━━━━━━━━━━━━━━━\u001b[0m\u001b[37m\u001b[0m \u001b[1m11s\u001b[0m 6ms/step - Precision: 0.0000e+00 - Recall: 0.0000e+00 - accuracy: 0.5660 - loss: 0.6846\n",
            "Epoch 6/100\n",
            "\u001b[1m1755/1755\u001b[0m \u001b[32m━━━━━━━━━━━━━━━━━━━━\u001b[0m\u001b[37m\u001b[0m \u001b[1m21s\u001b[0m 6ms/step - Precision: 0.0000e+00 - Recall: 0.0000e+00 - accuracy: 0.5656 - loss: 0.6848\n",
            "Epoch 7/100\n",
            "\u001b[1m1755/1755\u001b[0m \u001b[32m━━━━━━━━━━━━━━━━━━━━\u001b[0m\u001b[37m\u001b[0m \u001b[1m12s\u001b[0m 7ms/step - Precision: 0.0000e+00 - Recall: 0.0000e+00 - accuracy: 0.5676 - loss: 0.6841\n",
            "Epoch 8/100\n",
            "\u001b[1m1755/1755\u001b[0m \u001b[32m━━━━━━━━━━━━━━━━━━━━\u001b[0m\u001b[37m\u001b[0m \u001b[1m11s\u001b[0m 6ms/step - Precision: 0.0000e+00 - Recall: 0.0000e+00 - accuracy: 0.5602 - loss: 0.6859\n",
            "Epoch 9/100\n",
            "\u001b[1m1755/1755\u001b[0m \u001b[32m━━━━━━━━━━━━━━━━━━━━\u001b[0m\u001b[37m\u001b[0m \u001b[1m10s\u001b[0m 6ms/step - Precision: 0.6171 - Recall: 3.0670e-04 - accuracy: 0.5649 - loss: 0.6846\n",
            "Epoch 10/100\n",
            "\u001b[1m1755/1755\u001b[0m \u001b[32m━━━━━━━━━━━━━━━━━━━━\u001b[0m\u001b[37m\u001b[0m \u001b[1m11s\u001b[0m 6ms/step - Precision: 0.4476 - Recall: 6.4464e-04 - accuracy: 0.5672 - loss: 0.6839\n",
            "Epoch 11/100\n",
            "\u001b[1m1755/1755\u001b[0m \u001b[32m━━━━━━━━━━━━━━━━━━━━\u001b[0m\u001b[37m\u001b[0m \u001b[1m11s\u001b[0m 6ms/step - Precision: 0.4137 - Recall: 9.0083e-04 - accuracy: 0.5649 - loss: 0.6843\n",
            "Epoch 12/100\n",
            "\u001b[1m1755/1755\u001b[0m \u001b[32m━━━━━━━━━━━━━━━━━━━━\u001b[0m\u001b[37m\u001b[0m \u001b[1m11s\u001b[0m 6ms/step - Precision: 0.5495 - Recall: 3.2674e-04 - accuracy: 0.5629 - loss: 0.6851\n",
            "Epoch 13/100\n",
            "\u001b[1m1755/1755\u001b[0m \u001b[32m━━━━━━━━━━━━━━━━━━━━\u001b[0m\u001b[37m\u001b[0m \u001b[1m11s\u001b[0m 6ms/step - Precision: 0.5068 - Recall: 5.0397e-04 - accuracy: 0.5646 - loss: 0.6846\n",
            "Epoch 14/100\n",
            "\u001b[1m1755/1755\u001b[0m \u001b[32m━━━━━━━━━━━━━━━━━━━━\u001b[0m\u001b[37m\u001b[0m \u001b[1m22s\u001b[0m 7ms/step - Precision: 0.2953 - Recall: 5.6137e-05 - accuracy: 0.5675 - loss: 0.6837\n",
            "Epoch 15/100\n",
            "\u001b[1m1755/1755\u001b[0m \u001b[32m━━━━━━━━━━━━━━━━━━━━\u001b[0m\u001b[37m\u001b[0m \u001b[1m12s\u001b[0m 7ms/step - Precision: 0.1093 - Recall: 1.1246e-04 - accuracy: 0.5623 - loss: 0.6850\n",
            "Epoch 16/100\n",
            "\u001b[1m1755/1755\u001b[0m \u001b[32m━━━━━━━━━━━━━━━━━━━━\u001b[0m\u001b[37m\u001b[0m \u001b[1m12s\u001b[0m 7ms/step - Precision: 0.4003 - Recall: 3.4759e-04 - accuracy: 0.5685 - loss: 0.6836\n",
            "Epoch 17/100\n",
            "\u001b[1m1755/1755\u001b[0m \u001b[32m━━━━━━━━━━━━━━━━━━━━\u001b[0m\u001b[37m\u001b[0m \u001b[1m12s\u001b[0m 7ms/step - Precision: 0.3660 - Recall: 1.0761e-04 - accuracy: 0.5624 - loss: 0.6849\n",
            "Epoch 18/100\n",
            "\u001b[1m1755/1755\u001b[0m \u001b[32m━━━━━━━━━━━━━━━━━━━━\u001b[0m\u001b[37m\u001b[0m \u001b[1m20s\u001b[0m 7ms/step - Precision: 0.3372 - Recall: 0.0027 - accuracy: 0.5649 - loss: 0.6835\n",
            "Epoch 19/100\n",
            "\u001b[1m1755/1755\u001b[0m \u001b[32m━━━━━━━━━━━━━━━━━━━━\u001b[0m\u001b[37m\u001b[0m \u001b[1m12s\u001b[0m 7ms/step - Precision: 0.4413 - Recall: 0.0048 - accuracy: 0.5668 - loss: 0.6831\n",
            "Epoch 20/100\n",
            "\u001b[1m1755/1755\u001b[0m \u001b[32m━━━━━━━━━━━━━━━━━━━━\u001b[0m\u001b[37m\u001b[0m \u001b[1m11s\u001b[0m 6ms/step - Precision: 0.4615 - Recall: 0.0106 - accuracy: 0.5631 - loss: 0.6840\n",
            "Epoch 21/100\n",
            "\u001b[1m1755/1755\u001b[0m \u001b[32m━━━━━━━━━━━━━━━━━━━━\u001b[0m\u001b[37m\u001b[0m \u001b[1m11s\u001b[0m 6ms/step - Precision: 0.4910 - Recall: 0.0138 - accuracy: 0.5646 - loss: 0.6833\n",
            "Epoch 22/100\n",
            "\u001b[1m1755/1755\u001b[0m \u001b[32m━━━━━━━━━━━━━━━━━━━━\u001b[0m\u001b[37m\u001b[0m \u001b[1m10s\u001b[0m 6ms/step - Precision: 0.4231 - Recall: 0.0129 - accuracy: 0.5641 - loss: 0.6828\n",
            "Epoch 23/100\n",
            "\u001b[1m1755/1755\u001b[0m \u001b[32m━━━━━━━━━━━━━━━━━━━━\u001b[0m\u001b[37m\u001b[0m \u001b[1m11s\u001b[0m 6ms/step - Precision: 0.4996 - Recall: 0.0187 - accuracy: 0.5664 - loss: 0.6817\n",
            "Epoch 24/100\n",
            "\u001b[1m1755/1755\u001b[0m \u001b[32m━━━━━━━━━━━━━━━━━━━━\u001b[0m\u001b[37m\u001b[0m \u001b[1m21s\u001b[0m 7ms/step - Precision: 0.4899 - Recall: 0.0235 - accuracy: 0.5659 - loss: 0.6822\n",
            "Epoch 25/100\n",
            "\u001b[1m1755/1755\u001b[0m \u001b[32m━━━━━━━━━━━━━━━━━━━━\u001b[0m\u001b[37m\u001b[0m \u001b[1m21s\u001b[0m 7ms/step - Precision: 0.4862 - Recall: 0.0288 - accuracy: 0.5647 - loss: 0.6818\n",
            "Epoch 26/100\n",
            "\u001b[1m1755/1755\u001b[0m \u001b[32m━━━━━━━━━━━━━━━━━━━━\u001b[0m\u001b[37m\u001b[0m \u001b[1m20s\u001b[0m 7ms/step - Precision: 0.5272 - Recall: 0.0467 - accuracy: 0.5660 - loss: 0.6816\n",
            "Epoch 27/100\n",
            "\u001b[1m1755/1755\u001b[0m \u001b[32m━━━━━━━━━━━━━━━━━━━━\u001b[0m\u001b[37m\u001b[0m \u001b[1m20s\u001b[0m 6ms/step - Precision: 0.5335 - Recall: 0.0451 - accuracy: 0.5670 - loss: 0.6812\n",
            "Epoch 28/100\n",
            "\u001b[1m1755/1755\u001b[0m \u001b[32m━━━━━━━━━━━━━━━━━━━━\u001b[0m\u001b[37m\u001b[0m \u001b[1m12s\u001b[0m 7ms/step - Precision: 0.5173 - Recall: 0.0577 - accuracy: 0.5679 - loss: 0.6800\n",
            "Epoch 29/100\n",
            "\u001b[1m1755/1755\u001b[0m \u001b[32m━━━━━━━━━━━━━━━━━━━━\u001b[0m\u001b[37m\u001b[0m \u001b[1m13s\u001b[0m 7ms/step - Precision: 0.5151 - Recall: 0.0411 - accuracy: 0.5651 - loss: 0.6810\n",
            "Epoch 30/100\n",
            "\u001b[1m1755/1755\u001b[0m \u001b[32m━━━━━━━━━━━━━━━━━━━━\u001b[0m\u001b[37m\u001b[0m \u001b[1m18s\u001b[0m 6ms/step - Precision: 0.5042 - Recall: 0.0501 - accuracy: 0.5625 - loss: 0.6808\n",
            "Epoch 31/100\n",
            "\u001b[1m1755/1755\u001b[0m \u001b[32m━━━━━━━━━━━━━━━━━━━━\u001b[0m\u001b[37m\u001b[0m \u001b[1m21s\u001b[0m 7ms/step - Precision: 0.5207 - Recall: 0.0453 - accuracy: 0.5682 - loss: 0.6796\n",
            "Epoch 32/100\n",
            "\u001b[1m1755/1755\u001b[0m \u001b[32m━━━━━━━━━━━━━━━━━━━━\u001b[0m\u001b[37m\u001b[0m \u001b[1m12s\u001b[0m 7ms/step - Precision: 0.5298 - Recall: 0.0633 - accuracy: 0.5654 - loss: 0.6801\n",
            "Epoch 33/100\n",
            "\u001b[1m1755/1755\u001b[0m \u001b[32m━━━━━━━━━━━━━━━━━━━━\u001b[0m\u001b[37m\u001b[0m \u001b[1m11s\u001b[0m 6ms/step - Precision: 0.5131 - Recall: 0.0666 - accuracy: 0.5632 - loss: 0.6806\n",
            "Epoch 34/100\n",
            "\u001b[1m1755/1755\u001b[0m \u001b[32m━━━━━━━━━━━━━━━━━━━━\u001b[0m\u001b[37m\u001b[0m \u001b[1m22s\u001b[0m 7ms/step - Precision: 0.5333 - Recall: 0.0593 - accuracy: 0.5678 - loss: 0.6796\n",
            "Epoch 35/100\n",
            "\u001b[1m1755/1755\u001b[0m \u001b[32m━━━━━━━━━━━━━━━━━━━━\u001b[0m\u001b[37m\u001b[0m \u001b[1m12s\u001b[0m 7ms/step - Precision: 0.5394 - Recall: 0.0793 - accuracy: 0.5702 - loss: 0.6785\n",
            "Epoch 36/100\n",
            "\u001b[1m1755/1755\u001b[0m \u001b[32m━━━━━━━━━━━━━━━━━━━━\u001b[0m\u001b[37m\u001b[0m \u001b[1m19s\u001b[0m 6ms/step - Precision: 0.5320 - Recall: 0.0629 - accuracy: 0.5694 - loss: 0.6780\n",
            "Epoch 37/100\n",
            "\u001b[1m1755/1755\u001b[0m \u001b[32m━━━━━━━━━━━━━━━━━━━━\u001b[0m\u001b[37m\u001b[0m \u001b[1m11s\u001b[0m 6ms/step - Precision: 0.5249 - Recall: 0.0707 - accuracy: 0.5677 - loss: 0.6787\n",
            "Epoch 38/100\n",
            "\u001b[1m1755/1755\u001b[0m \u001b[32m━━━━━━━━━━━━━━━━━━━━\u001b[0m\u001b[37m\u001b[0m \u001b[1m12s\u001b[0m 7ms/step - Precision: 0.5379 - Recall: 0.0895 - accuracy: 0.5664 - loss: 0.6784\n",
            "Epoch 39/100\n",
            "\u001b[1m1755/1755\u001b[0m \u001b[32m━━━━━━━━━━━━━━━━━━━━\u001b[0m\u001b[37m\u001b[0m \u001b[1m12s\u001b[0m 7ms/step - Precision: 0.5497 - Recall: 0.0720 - accuracy: 0.5711 - loss: 0.6775\n",
            "Epoch 40/100\n",
            "\u001b[1m1755/1755\u001b[0m \u001b[32m━━━━━━━━━━━━━━━━━━━━\u001b[0m\u001b[37m\u001b[0m \u001b[1m12s\u001b[0m 7ms/step - Precision: 0.5322 - Recall: 0.0633 - accuracy: 0.5686 - loss: 0.6786\n",
            "Epoch 41/100\n",
            "\u001b[1m1755/1755\u001b[0m \u001b[32m━━━━━━━━━━━━━━━━━━━━\u001b[0m\u001b[37m\u001b[0m \u001b[1m21s\u001b[0m 7ms/step - Precision: 0.5408 - Recall: 0.0637 - accuracy: 0.5700 - loss: 0.6780\n",
            "Epoch 42/100\n",
            "\u001b[1m1755/1755\u001b[0m \u001b[32m━━━━━━━━━━━━━━━━━━━━\u001b[0m\u001b[37m\u001b[0m \u001b[1m12s\u001b[0m 7ms/step - Precision: 0.5453 - Recall: 0.0809 - accuracy: 0.5698 - loss: 0.6780\n",
            "Epoch 43/100\n",
            "\u001b[1m1755/1755\u001b[0m \u001b[32m━━━━━━━━━━━━━━━━━━━━\u001b[0m\u001b[37m\u001b[0m \u001b[1m12s\u001b[0m 7ms/step - Precision: 0.5528 - Recall: 0.0798 - accuracy: 0.5699 - loss: 0.6780\n",
            "Epoch 44/100\n",
            "\u001b[1m1755/1755\u001b[0m \u001b[32m━━━━━━━━━━━━━━━━━━━━\u001b[0m\u001b[37m\u001b[0m \u001b[1m12s\u001b[0m 7ms/step - Precision: 0.5597 - Recall: 0.0907 - accuracy: 0.5703 - loss: 0.6783\n",
            "Epoch 45/100\n",
            "\u001b[1m1755/1755\u001b[0m \u001b[32m━━━━━━━━━━━━━━━━━━━━\u001b[0m\u001b[37m\u001b[0m \u001b[1m11s\u001b[0m 6ms/step - Precision: 0.5589 - Recall: 0.0862 - accuracy: 0.5754 - loss: 0.6762\n",
            "Epoch 46/100\n",
            "\u001b[1m1755/1755\u001b[0m \u001b[32m━━━━━━━━━━━━━━━━━━━━\u001b[0m\u001b[37m\u001b[0m \u001b[1m22s\u001b[0m 7ms/step - Precision: 0.5561 - Recall: 0.0832 - accuracy: 0.5761 - loss: 0.6744\n",
            "Epoch 47/100\n",
            "\u001b[1m1755/1755\u001b[0m \u001b[32m━━━━━━━━━━━━━━━━━━━━\u001b[0m\u001b[37m\u001b[0m \u001b[1m12s\u001b[0m 7ms/step - Precision: 0.5426 - Recall: 0.1001 - accuracy: 0.5715 - loss: 0.6760\n",
            "Epoch 48/100\n",
            "\u001b[1m1755/1755\u001b[0m \u001b[32m━━━━━━━━━━━━━━━━━━━━\u001b[0m\u001b[37m\u001b[0m \u001b[1m19s\u001b[0m 6ms/step - Precision: 0.5613 - Recall: 0.0908 - accuracy: 0.5746 - loss: 0.6757\n",
            "Epoch 49/100\n",
            "\u001b[1m1755/1755\u001b[0m \u001b[32m━━━━━━━━━━━━━━━━━━━━\u001b[0m\u001b[37m\u001b[0m \u001b[1m21s\u001b[0m 6ms/step - Precision: 0.5396 - Recall: 0.1054 - accuracy: 0.5686 - loss: 0.6758\n",
            "Epoch 50/100\n",
            "\u001b[1m1755/1755\u001b[0m \u001b[32m━━━━━━━━━━━━━━━━━━━━\u001b[0m\u001b[37m\u001b[0m \u001b[1m20s\u001b[0m 6ms/step - Precision: 0.5403 - Recall: 0.1002 - accuracy: 0.5708 - loss: 0.6753\n",
            "Epoch 51/100\n",
            "\u001b[1m1755/1755\u001b[0m \u001b[32m━━━━━━━━━━━━━━━━━━━━\u001b[0m\u001b[37m\u001b[0m \u001b[1m10s\u001b[0m 6ms/step - Precision: 0.5509 - Recall: 0.1077 - accuracy: 0.5745 - loss: 0.6729\n",
            "Epoch 52/100\n",
            "\u001b[1m1755/1755\u001b[0m \u001b[32m━━━━━━━━━━━━━━━━━━━━\u001b[0m\u001b[37m\u001b[0m \u001b[1m11s\u001b[0m 6ms/step - Precision: 0.5626 - Recall: 0.1066 - accuracy: 0.5735 - loss: 0.6746\n",
            "Epoch 53/100\n",
            "\u001b[1m1755/1755\u001b[0m \u001b[32m━━━━━━━━━━━━━━━━━━━━\u001b[0m\u001b[37m\u001b[0m \u001b[1m21s\u001b[0m 7ms/step - Precision: 0.5520 - Recall: 0.0967 - accuracy: 0.5711 - loss: 0.6760\n",
            "Epoch 54/100\n",
            "\u001b[1m1755/1755\u001b[0m \u001b[32m━━━━━━━━━━━━━━━━━━━━\u001b[0m\u001b[37m\u001b[0m \u001b[1m11s\u001b[0m 6ms/step - Precision: 0.5497 - Recall: 0.1030 - accuracy: 0.5724 - loss: 0.6752\n",
            "Epoch 55/100\n",
            "\u001b[1m1755/1755\u001b[0m \u001b[32m━━━━━━━━━━━━━━━━━━━━\u001b[0m\u001b[37m\u001b[0m \u001b[1m11s\u001b[0m 6ms/step - Precision: 0.5588 - Recall: 0.1077 - accuracy: 0.5771 - loss: 0.6735\n",
            "Epoch 56/100\n",
            "\u001b[1m1755/1755\u001b[0m \u001b[32m━━━━━━━━━━━━━━━━━━━━\u001b[0m\u001b[37m\u001b[0m \u001b[1m22s\u001b[0m 7ms/step - Precision: 0.5504 - Recall: 0.1201 - accuracy: 0.5704 - loss: 0.6747\n",
            "Epoch 57/100\n",
            "\u001b[1m1755/1755\u001b[0m \u001b[32m━━━━━━━━━━━━━━━━━━━━\u001b[0m\u001b[37m\u001b[0m \u001b[1m12s\u001b[0m 7ms/step - Precision: 0.5549 - Recall: 0.1180 - accuracy: 0.5768 - loss: 0.6722\n",
            "Epoch 58/100\n",
            "\u001b[1m1755/1755\u001b[0m \u001b[32m━━━━━━━━━━━━━━━━━━━━\u001b[0m\u001b[37m\u001b[0m \u001b[1m11s\u001b[0m 6ms/step - Precision: 0.5481 - Recall: 0.1147 - accuracy: 0.5744 - loss: 0.6733\n",
            "Epoch 59/100\n",
            "\u001b[1m1755/1755\u001b[0m \u001b[32m━━━━━━━━━━━━━━━━━━━━\u001b[0m\u001b[37m\u001b[0m \u001b[1m20s\u001b[0m 6ms/step - Precision: 0.5540 - Recall: 0.1136 - accuracy: 0.5718 - loss: 0.6750\n",
            "Epoch 60/100\n",
            "\u001b[1m1755/1755\u001b[0m \u001b[32m━━━━━━━━━━━━━━━━━━━━\u001b[0m\u001b[37m\u001b[0m \u001b[1m20s\u001b[0m 6ms/step - Precision: 0.5611 - Recall: 0.1093 - accuracy: 0.5785 - loss: 0.6720\n",
            "Epoch 61/100\n",
            "\u001b[1m1755/1755\u001b[0m \u001b[32m━━━━━━━━━━━━━━━━━━━━\u001b[0m\u001b[37m\u001b[0m \u001b[1m10s\u001b[0m 6ms/step - Precision: 0.5767 - Recall: 0.1221 - accuracy: 0.5799 - loss: 0.6732\n",
            "Epoch 62/100\n",
            "\u001b[1m1755/1755\u001b[0m \u001b[32m━━━━━━━━━━━━━━━━━━━━\u001b[0m\u001b[37m\u001b[0m \u001b[1m12s\u001b[0m 7ms/step - Precision: 0.5616 - Recall: 0.1272 - accuracy: 0.5757 - loss: 0.6723\n",
            "Epoch 63/100\n",
            "\u001b[1m1755/1755\u001b[0m \u001b[32m━━━━━━━━━━━━━━━━━━━━\u001b[0m\u001b[37m\u001b[0m \u001b[1m20s\u001b[0m 6ms/step - Precision: 0.5544 - Recall: 0.1188 - accuracy: 0.5755 - loss: 0.6725\n",
            "Epoch 64/100\n",
            "\u001b[1m1755/1755\u001b[0m \u001b[32m━━━━━━━━━━━━━━━━━━━━\u001b[0m\u001b[37m\u001b[0m \u001b[1m11s\u001b[0m 6ms/step - Precision: 0.5741 - Recall: 0.1002 - accuracy: 0.5771 - loss: 0.6733\n",
            "Epoch 65/100\n",
            "\u001b[1m1755/1755\u001b[0m \u001b[32m━━━━━━━━━━━━━━━━━━━━\u001b[0m\u001b[37m\u001b[0m \u001b[1m22s\u001b[0m 7ms/step - Precision: 0.5544 - Recall: 0.1327 - accuracy: 0.5768 - loss: 0.6725\n",
            "Epoch 66/100\n",
            "\u001b[1m1755/1755\u001b[0m \u001b[32m━━━━━━━━━━━━━━━━━━━━\u001b[0m\u001b[37m\u001b[0m \u001b[1m20s\u001b[0m 7ms/step - Precision: 0.5559 - Recall: 0.1218 - accuracy: 0.5755 - loss: 0.6720\n",
            "Epoch 67/100\n",
            "\u001b[1m1755/1755\u001b[0m \u001b[32m━━━━━━━━━━━━━━━━━━━━\u001b[0m\u001b[37m\u001b[0m \u001b[1m21s\u001b[0m 7ms/step - Precision: 0.5556 - Recall: 0.1308 - accuracy: 0.5757 - loss: 0.6711\n",
            "Epoch 68/100\n",
            "\u001b[1m1755/1755\u001b[0m \u001b[32m━━━━━━━━━━━━━━━━━━━━\u001b[0m\u001b[37m\u001b[0m \u001b[1m12s\u001b[0m 7ms/step - Precision: 0.5548 - Recall: 0.1392 - accuracy: 0.5768 - loss: 0.6712\n",
            "Epoch 69/100\n",
            "\u001b[1m1755/1755\u001b[0m \u001b[32m━━━━━━━━━━━━━━━━━━━━\u001b[0m\u001b[37m\u001b[0m \u001b[1m12s\u001b[0m 7ms/step - Precision: 0.5471 - Recall: 0.1071 - accuracy: 0.5773 - loss: 0.6715\n",
            "Epoch 70/100\n",
            "\u001b[1m1755/1755\u001b[0m \u001b[32m━━━━━━━━━━━━━━━━━━━━\u001b[0m\u001b[37m\u001b[0m \u001b[1m11s\u001b[0m 6ms/step - Precision: 0.5649 - Recall: 0.1430 - accuracy: 0.5766 - loss: 0.6717\n",
            "Epoch 71/100\n",
            "\u001b[1m1755/1755\u001b[0m \u001b[32m━━━━━━━━━━━━━━━━━━━━\u001b[0m\u001b[37m\u001b[0m \u001b[1m11s\u001b[0m 6ms/step - Precision: 0.5690 - Recall: 0.1474 - accuracy: 0.5788 - loss: 0.6710\n",
            "Epoch 72/100\n",
            "\u001b[1m1755/1755\u001b[0m \u001b[32m━━━━━━━━━━━━━━━━━━━━\u001b[0m\u001b[37m\u001b[0m \u001b[1m12s\u001b[0m 7ms/step - Precision: 0.5596 - Recall: 0.1382 - accuracy: 0.5763 - loss: 0.6716\n",
            "Epoch 73/100\n",
            "\u001b[1m1755/1755\u001b[0m \u001b[32m━━━━━━━━━━━━━━━━━━━━\u001b[0m\u001b[37m\u001b[0m \u001b[1m12s\u001b[0m 7ms/step - Precision: 0.5806 - Recall: 0.1254 - accuracy: 0.5806 - loss: 0.6703\n",
            "Epoch 74/100\n",
            "\u001b[1m1755/1755\u001b[0m \u001b[32m━━━━━━━━━━━━━━━━━━━━\u001b[0m\u001b[37m\u001b[0m \u001b[1m21s\u001b[0m 7ms/step - Precision: 0.5626 - Recall: 0.1144 - accuracy: 0.5755 - loss: 0.6720\n",
            "Epoch 75/100\n",
            "\u001b[1m1755/1755\u001b[0m \u001b[32m━━━━━━━━━━━━━━━━━━━━\u001b[0m\u001b[37m\u001b[0m \u001b[1m21s\u001b[0m 7ms/step - Precision: 0.5703 - Recall: 0.1401 - accuracy: 0.5762 - loss: 0.6701\n",
            "Epoch 76/100\n",
            "\u001b[1m1755/1755\u001b[0m \u001b[32m━━━━━━━━━━━━━━━━━━━━\u001b[0m\u001b[37m\u001b[0m \u001b[1m20s\u001b[0m 7ms/step - Precision: 0.5710 - Recall: 0.1338 - accuracy: 0.5793 - loss: 0.6697\n",
            "Epoch 77/100\n",
            "\u001b[1m1755/1755\u001b[0m \u001b[32m━━━━━━━━━━━━━━━━━━━━\u001b[0m\u001b[37m\u001b[0m \u001b[1m11s\u001b[0m 6ms/step - Precision: 0.5685 - Recall: 0.1395 - accuracy: 0.5807 - loss: 0.6684\n",
            "Epoch 78/100\n",
            "\u001b[1m1755/1755\u001b[0m \u001b[32m━━━━━━━━━━━━━━━━━━━━\u001b[0m\u001b[37m\u001b[0m \u001b[1m12s\u001b[0m 7ms/step - Precision: 0.5695 - Recall: 0.1444 - accuracy: 0.5798 - loss: 0.6692\n",
            "Epoch 79/100\n",
            "\u001b[1m1755/1755\u001b[0m \u001b[32m━━━━━━━━━━━━━━━━━━━━\u001b[0m\u001b[37m\u001b[0m \u001b[1m12s\u001b[0m 7ms/step - Precision: 0.5650 - Recall: 0.1369 - accuracy: 0.5771 - loss: 0.6700\n",
            "Epoch 80/100\n",
            "\u001b[1m1755/1755\u001b[0m \u001b[32m━━━━━━━━━━━━━━━━━━━━\u001b[0m\u001b[37m\u001b[0m \u001b[1m20s\u001b[0m 6ms/step - Precision: 0.5560 - Recall: 0.1515 - accuracy: 0.5733 - loss: 0.6715\n",
            "Epoch 81/100\n",
            "\u001b[1m1755/1755\u001b[0m \u001b[32m━━━━━━━━━━━━━━━━━━━━\u001b[0m\u001b[37m\u001b[0m \u001b[1m11s\u001b[0m 6ms/step - Precision: 0.5666 - Recall: 0.1717 - accuracy: 0.5796 - loss: 0.6693\n",
            "Epoch 82/100\n",
            "\u001b[1m1755/1755\u001b[0m \u001b[32m━━━━━━━━━━━━━━━━━━━━\u001b[0m\u001b[37m\u001b[0m \u001b[1m12s\u001b[0m 7ms/step - Precision: 0.5587 - Recall: 0.1459 - accuracy: 0.5750 - loss: 0.6702\n",
            "Epoch 83/100\n",
            "\u001b[1m1755/1755\u001b[0m \u001b[32m━━━━━━━━━━━━━━━━━━━━\u001b[0m\u001b[37m\u001b[0m \u001b[1m12s\u001b[0m 7ms/step - Precision: 0.5716 - Recall: 0.1303 - accuracy: 0.5780 - loss: 0.6698\n",
            "Epoch 84/100\n",
            "\u001b[1m1755/1755\u001b[0m \u001b[32m━━━━━━━━━━━━━━━━━━━━\u001b[0m\u001b[37m\u001b[0m \u001b[1m11s\u001b[0m 6ms/step - Precision: 0.5763 - Recall: 0.1438 - accuracy: 0.5802 - loss: 0.6687\n",
            "Epoch 85/100\n",
            "\u001b[1m1755/1755\u001b[0m \u001b[32m━━━━━━━━━━━━━━━━━━━━\u001b[0m\u001b[37m\u001b[0m \u001b[1m11s\u001b[0m 6ms/step - Precision: 0.5647 - Recall: 0.1470 - accuracy: 0.5807 - loss: 0.6656\n",
            "Epoch 86/100\n",
            "\u001b[1m1755/1755\u001b[0m \u001b[32m━━━━━━━━━━━━━━━━━━━━\u001b[0m\u001b[37m\u001b[0m \u001b[1m10s\u001b[0m 6ms/step - Precision: 0.5665 - Recall: 0.1536 - accuracy: 0.5794 - loss: 0.6690\n",
            "Epoch 87/100\n",
            "\u001b[1m1755/1755\u001b[0m \u001b[32m━━━━━━━━━━━━━━━━━━━━\u001b[0m\u001b[37m\u001b[0m \u001b[1m22s\u001b[0m 7ms/step - Precision: 0.5746 - Recall: 0.1540 - accuracy: 0.5794 - loss: 0.6683\n",
            "Epoch 88/100\n",
            "\u001b[1m1755/1755\u001b[0m \u001b[32m━━━━━━━━━━━━━━━━━━━━\u001b[0m\u001b[37m\u001b[0m \u001b[1m12s\u001b[0m 7ms/step - Precision: 0.5780 - Recall: 0.1567 - accuracy: 0.5822 - loss: 0.6672\n",
            "Epoch 89/100\n",
            "\u001b[1m1755/1755\u001b[0m \u001b[32m━━━━━━━━━━━━━━━━━━━━\u001b[0m\u001b[37m\u001b[0m \u001b[1m20s\u001b[0m 7ms/step - Precision: 0.5769 - Recall: 0.1547 - accuracy: 0.5841 - loss: 0.6657\n",
            "Epoch 90/100\n",
            "\u001b[1m1755/1755\u001b[0m \u001b[32m━━━━━━━━━━━━━━━━━━━━\u001b[0m\u001b[37m\u001b[0m \u001b[1m12s\u001b[0m 7ms/step - Precision: 0.5699 - Recall: 0.1408 - accuracy: 0.5804 - loss: 0.6682\n",
            "Epoch 91/100\n",
            "\u001b[1m1755/1755\u001b[0m \u001b[32m━━━━━━━━━━━━━━━━━━━━\u001b[0m\u001b[37m\u001b[0m \u001b[1m12s\u001b[0m 7ms/step - Precision: 0.5563 - Recall: 0.1692 - accuracy: 0.5768 - loss: 0.6669\n",
            "Epoch 92/100\n",
            "\u001b[1m1755/1755\u001b[0m \u001b[32m━━━━━━━━━━━━━━━━━━━━\u001b[0m\u001b[37m\u001b[0m \u001b[1m19s\u001b[0m 6ms/step - Precision: 0.5767 - Recall: 0.1686 - accuracy: 0.5823 - loss: 0.6661\n",
            "Epoch 93/100\n",
            "\u001b[1m1755/1755\u001b[0m \u001b[32m━━━━━━━━━━━━━━━━━━━━\u001b[0m\u001b[37m\u001b[0m \u001b[1m11s\u001b[0m 6ms/step - Precision: 0.5825 - Recall: 0.1372 - accuracy: 0.5819 - loss: 0.6670\n",
            "Epoch 94/100\n",
            "\u001b[1m1755/1755\u001b[0m \u001b[32m━━━━━━━━━━━━━━━━━━━━\u001b[0m\u001b[37m\u001b[0m \u001b[1m21s\u001b[0m 6ms/step - Precision: 0.5657 - Recall: 0.1455 - accuracy: 0.5786 - loss: 0.6677\n",
            "Epoch 95/100\n",
            "\u001b[1m1755/1755\u001b[0m \u001b[32m━━━━━━━━━━━━━━━━━━━━\u001b[0m\u001b[37m\u001b[0m \u001b[1m20s\u001b[0m 6ms/step - Precision: 0.5875 - Recall: 0.1378 - accuracy: 0.5850 - loss: 0.6647\n",
            "Epoch 96/100\n",
            "\u001b[1m1755/1755\u001b[0m \u001b[32m━━━━━━━━━━━━━━━━━━━━\u001b[0m\u001b[37m\u001b[0m \u001b[1m11s\u001b[0m 6ms/step - Precision: 0.5813 - Recall: 0.1760 - accuracy: 0.5848 - loss: 0.6642\n",
            "Epoch 97/100\n",
            "\u001b[1m1755/1755\u001b[0m \u001b[32m━━━━━━━━━━━━━━━━━━━━\u001b[0m\u001b[37m\u001b[0m \u001b[1m21s\u001b[0m 7ms/step - Precision: 0.5817 - Recall: 0.1646 - accuracy: 0.5840 - loss: 0.6652\n",
            "Epoch 98/100\n",
            "\u001b[1m1755/1755\u001b[0m \u001b[32m━━━━━━━━━━━━━━━━━━━━\u001b[0m\u001b[37m\u001b[0m \u001b[1m11s\u001b[0m 6ms/step - Precision: 0.5667 - Recall: 0.1601 - accuracy: 0.5787 - loss: 0.6662\n",
            "Epoch 99/100\n",
            "\u001b[1m1755/1755\u001b[0m \u001b[32m━━━━━━━━━━━━━━━━━━━━\u001b[0m\u001b[37m\u001b[0m \u001b[1m22s\u001b[0m 7ms/step - Precision: 0.5934 - Recall: 0.1566 - accuracy: 0.5869 - loss: 0.6648\n",
            "Epoch 100/100\n",
            "\u001b[1m1755/1755\u001b[0m \u001b[32m━━━━━━━━━━━━━━━━━━━━\u001b[0m\u001b[37m\u001b[0m \u001b[1m20s\u001b[0m 6ms/step - Precision: 0.5736 - Recall: 0.1686 - accuracy: 0.5813 - loss: 0.6652\n"
          ]
        },
        {
          "output_type": "execute_result",
          "data": {
            "text/plain": [
              "<keras.src.callbacks.history.History at 0x7bdb9a7585f0>"
            ]
          },
          "metadata": {},
          "execution_count": 79
        }
      ]
    },
    {
      "cell_type": "code",
      "execution_count": null,
      "metadata": {
        "id": "DmahwIkyito0",
        "colab": {
          "base_uri": "https://localhost:8080/"
        },
        "outputId": "a528bee3-cc71-49a9-b8b0-6c02b4572c01"
      },
      "outputs": [
        {
          "output_type": "stream",
          "name": "stdout",
          "text": [
            "\u001b[1m353/353\u001b[0m \u001b[32m━━━━━━━━━━━━━━━━━━━━\u001b[0m\u001b[37m\u001b[0m \u001b[1m1s\u001b[0m 2ms/step\n",
            "[[0.47844577]\n",
            " [0.43478587]\n",
            " [0.4578876 ]\n",
            " ...\n",
            " [0.43250388]\n",
            " [0.43586054]\n",
            " [0.44150126]]\n"
          ]
        }
      ],
      "source": [
        "testPredict = model.predict(X_test)\n",
        "print(testPredict)"
      ]
    },
    {
      "cell_type": "markdown",
      "source": [
        "#Saving the weights of the trained model"
      ],
      "metadata": {
        "id": "oNH760rgRtaK"
      }
    },
    {
      "cell_type": "code",
      "source": [
        "model.save_weights('/content/drive/MyDrive/forecast_model.weights.h5')"
      ],
      "metadata": {
        "id": "9qxjlRCdRbJl"
      },
      "execution_count": null,
      "outputs": []
    }
  ],
  "metadata": {
    "colab": {
      "machine_shape": "hm",
      "provenance": [],
      "include_colab_link": true
    },
    "kernelspec": {
      "display_name": "Python 3",
      "name": "python3"
    },
    "language_info": {
      "name": "python"
    }
  },
  "nbformat": 4,
  "nbformat_minor": 0
}